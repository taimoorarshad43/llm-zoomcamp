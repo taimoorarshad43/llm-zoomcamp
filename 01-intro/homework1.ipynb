{
 "cells": [
  {
   "cell_type": "code",
   "execution_count": 1,
   "id": "bad41cc6-6b23-46fd-918f-75e109a633de",
   "metadata": {},
   "outputs": [],
   "source": [
    "from openai import OpenAI"
   ]
  },
  {
   "cell_type": "code",
   "execution_count": 2,
   "id": "ef129ffe-c7c5-453c-aa8b-581845940e13",
   "metadata": {},
   "outputs": [],
   "source": [
    "client = OpenAI()"
   ]
  },
  {
   "cell_type": "code",
   "execution_count": 4,
   "id": "c0744d28-d499-484e-9ef8-9e9d6cd7f3c2",
   "metadata": {},
   "outputs": [],
   "source": [
    "response = client.chat.completions.create(\n",
    "    model='gpt-4o',\n",
    "    messages=[{\"role\": \"user\", \"content\": \"is it too late to join the course?\"}]\n",
    ")"
   ]
  },
  {
   "cell_type": "code",
   "execution_count": 5,
   "id": "a0196bf0-9d92-4fb8-a12f-3c45452cb77f",
   "metadata": {},
   "outputs": [
    {
     "data": {
      "text/plain": [
       "ChatCompletion(id='chatcmpl-BkDjewwot70HNRMt7xnWKxLcYSQ6g', choices=[Choice(finish_reason='stop', index=0, logprobs=None, message=ChatCompletionMessage(content=\"To determine if it is too late to join a course, several factors need to be considered:\\n\\n1. **Enrollment Deadlines:** Check the official website or contact the admissions office of the institution offering the course to find out the enrollment deadlines.\\n\\n2. **Course Start Date:** See if the course has already started and whether late enrollment is possible.\\n\\n3. **Space Availability:** Confirm if there are still available spots in the course.\\n\\n4. **Adjustment Policies:** Some institutions may allow late enrollment within a certain period after the course begins, sometimes with a late fee.\\n\\n5. **Online or Self-paced Courses:** If the course is online or self-paced, there may be more flexibility in the enrollment timeline.\\n\\n6. **Instructor Approval:** Sometimes, instructors can make exceptions for late enrollments.\\n\\nIf you have specific details about the course you're interested in, contact the relevant department or check their website for the most accurate information.\", refusal=None, role='assistant', annotations=[], audio=None, function_call=None, tool_calls=None))], created=1750355586, model='gpt-4o-2024-08-06', object='chat.completion', service_tier='default', system_fingerprint='fp_07871e2ad8', usage=CompletionUsage(completion_tokens=184, prompt_tokens=16, total_tokens=200, completion_tokens_details=CompletionTokensDetails(accepted_prediction_tokens=0, audio_tokens=0, reasoning_tokens=0, rejected_prediction_tokens=0), prompt_tokens_details=PromptTokensDetails(audio_tokens=0, cached_tokens=0)))"
      ]
     },
     "execution_count": 5,
     "metadata": {},
     "output_type": "execute_result"
    }
   ],
   "source": [
    "response"
   ]
  },
  {
   "cell_type": "code",
   "execution_count": 6,
   "id": "a1aa7d43-60cf-4f93-87a8-00bebca72feb",
   "metadata": {},
   "outputs": [
    {
     "data": {
      "text/plain": [
       "\"To determine if it is too late to join a course, several factors need to be considered:\\n\\n1. **Enrollment Deadlines:** Check the official website or contact the admissions office of the institution offering the course to find out the enrollment deadlines.\\n\\n2. **Course Start Date:** See if the course has already started and whether late enrollment is possible.\\n\\n3. **Space Availability:** Confirm if there are still available spots in the course.\\n\\n4. **Adjustment Policies:** Some institutions may allow late enrollment within a certain period after the course begins, sometimes with a late fee.\\n\\n5. **Online or Self-paced Courses:** If the course is online or self-paced, there may be more flexibility in the enrollment timeline.\\n\\n6. **Instructor Approval:** Sometimes, instructors can make exceptions for late enrollments.\\n\\nIf you have specific details about the course you're interested in, contact the relevant department or check their website for the most accurate information.\""
      ]
     },
     "execution_count": 6,
     "metadata": {},
     "output_type": "execute_result"
    }
   ],
   "source": [
    "response.choices[0].message.content"
   ]
  },
  {
   "cell_type": "code",
   "execution_count": null,
   "id": "f98ac035-31a6-43db-826d-56bbbf3ec12e",
   "metadata": {},
   "outputs": [],
   "source": []
  }
 ],
 "metadata": {
  "kernelspec": {
   "display_name": "Python 3 (ipykernel)",
   "language": "python",
   "name": "python3"
  },
  "language_info": {
   "codemirror_mode": {
    "name": "ipython",
    "version": 3
   },
   "file_extension": ".py",
   "mimetype": "text/x-python",
   "name": "python",
   "nbconvert_exporter": "python",
   "pygments_lexer": "ipython3",
   "version": "3.12.1"
  }
 },
 "nbformat": 4,
 "nbformat_minor": 5
}
